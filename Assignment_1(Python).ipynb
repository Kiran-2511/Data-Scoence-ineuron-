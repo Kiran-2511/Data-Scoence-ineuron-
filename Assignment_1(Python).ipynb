{
 "cells": [
  {
   "cell_type": "markdown",
   "id": "27016548",
   "metadata": {},
   "source": [
    "# Assignment_1(Ineuron)"
   ]
  },
  {
   "cell_type": "markdown",
   "id": "951352ef",
   "metadata": {},
   "source": [
    "1. In the below elements which of them are values or an expression? eg:- values can be\n",
    "integer or string and expressions will be mathematical operators.\n",
    "*\n",
    "&#39;hello&#39;\n",
    "-87.8\n",
    "-\n",
    "/\n",
    "+\n",
    "6"
   ]
  },
  {
   "cell_type": "markdown",
   "id": "ae4a138a",
   "metadata": {},
   "source": [
    "Answers:-\n",
    "1)'hello' : Value (String)\n",
    "2)-87.8 : Value (Floating-point Number)\n",
    "3)/ : Expression (Division Operator)\n",
    "4)6 : Value (Integer)\n",
    "\n",
    "\n"
   ]
  },
  {
   "cell_type": "markdown",
   "id": "0e975fad",
   "metadata": {},
   "source": [
    "2. What is the difference between string and variable?"
   ]
  },
  {
   "cell_type": "markdown",
   "id": "05581843",
   "metadata": {},
   "source": [
    "A string is a sequence of characters, such as letters, numbers, and symbols, that are enclosed within single quotes (' ') or double quotes (\" \"). In other words, a string is a piece of textual data that can be used to represent words, phrases, or sentences in programming.\n",
    "\n",
    "On the other hand, a variable is a named storage location in computer memory that can hold different values at different times during program execution. Variables are used to store and manipulate data in programs. A variable can be assigned a value of a certain data type, such as a string, integer, or floating-point number, and the value can be changed or updated as the program executes.\n",
    "\n",
    "In summary, a string is a data type that represents textual data, while a variable is a named storage location in memory that can hold data of different types, including strings.\n",
    "\n",
    "\n",
    "\n"
   ]
  },
  {
   "cell_type": "markdown",
   "id": "d7c6995c",
   "metadata": {},
   "source": [
    "3. Describe three different data types."
   ]
  },
  {
   "cell_type": "markdown",
   "id": "9c753c72",
   "metadata": {},
   "source": [
    "1)Integer: The integer data type represents whole numbers, such as -1, 0, 1, 2, 3, etc. In Python, integers are represented using the int class, and can be used for performing arithmetic operations like addition, subtraction, multiplication, and division.\n",
    "2)Float: The float data type represents decimal numbers, such as -1.0, 0.5, 3.14, etc. In Python, floating-point numbers are represented using the float class, and can also be used for performing arithmetic operations.\n",
    "3)String: The string data type represents textual data, such as words, phrases, or sentences. In Python, strings are represented using the str class, and can be enclosed within single quotes (' ') or double quotes (\" \").\n",
    "Python also has other built-in data types such as Boolean, List, Tuple, Dictionary, and Set that are used for storing and manipulating different kinds of data.    "
   ]
  },
  {
   "cell_type": "markdown",
   "id": "0ba3ca50",
   "metadata": {},
   "source": [
    "4. What is an expression made up of? What do all expressions do?"
   ]
  },
  {
   "cell_type": "markdown",
   "id": "b7f37da5",
   "metadata": {},
   "source": [
    "An expression in Python is made up of one or more values, variables, operators, and function calls that are combined together to produce a result.\n",
    "\n",
    "Expressions can be simple, consisting of a single value or variable, or they can be complex, involving multiple operators and function calls. For example, 2 + 3 is a simple expression that evaluates to the value 5, while 2 * (3 + 4) is a more complex expression that evaluates to 14.\n",
    "\n",
    "All expressions in Python evaluate to a value. This value can be a number, a string, a Boolean value, or any other data type. Expressions are used extensively in programming for performing calculations, making decisions, and manipulating data.\n",
    "\n"
   ]
  },
  {
   "cell_type": "markdown",
   "id": "cf1e382e",
   "metadata": {},
   "source": [
    "5. This assignment statements, like spam = 10. What is the difference between an expression and a statement?"
   ]
  },
  {
   "cell_type": "markdown",
   "id": "bef0a37d",
   "metadata": {},
   "source": [
    "In Python, an expression is a combination of values, variables, operators, and function calls that can be evaluated to produce a result. \n",
    "In the case of an assignment statement like spam = 10, the statement assigns the value 10 to the variable spam. This is different from an expression because an expression produces a value, while a statement performs an action.\n",
    "\n"
   ]
  },
  {
   "cell_type": "markdown",
   "id": "eb4b341b",
   "metadata": {},
   "source": [
    "6. After running the following code, what does the variable bacon contain?\n",
    "bacon = 22\n",
    "bacon + 1"
   ]
  },
  {
   "cell_type": "code",
   "execution_count": 1,
   "id": "709fd7d6",
   "metadata": {},
   "outputs": [
    {
     "data": {
      "text/plain": [
       "23"
      ]
     },
     "execution_count": 1,
     "metadata": {},
     "output_type": "execute_result"
    }
   ],
   "source": [
    "bacon = 22\n",
    "bacon + 1"
   ]
  },
  {
   "cell_type": "markdown",
   "id": "efb6679d",
   "metadata": {},
   "source": [
    "Bacon variable contain an integer value 22"
   ]
  },
  {
   "cell_type": "raw",
   "id": "e2cbcf59",
   "metadata": {},
   "source": [
    "7. What should the values of the following two terms be?\n",
    "spam+spamspam\n",
    "spam* 3"
   ]
  },
  {
   "cell_type": "markdown",
   "id": "36254bf3",
   "metadata": {},
   "source": [
    "1)spam + spamspam: This expression concatenates the value of spam with itself three times.\n",
    "2)spam * 3: This expression repeats the value of spam three times.\n",
    "     the value of both expressions is the same in this case, because both expressions produce a string that consists of three repetitions of the value of spam. "
   ]
  },
  {
   "cell_type": "markdown",
   "id": "5a856726",
   "metadata": {},
   "source": [
    "8. Why is eggs a valid variable name while 100 is invalid?"
   ]
  },
  {
   "cell_type": "markdown",
   "id": "b76de9c5",
   "metadata": {},
   "source": [
    "In Python, variable names must follow certain rules in order to be valid. The rules for variable names are:\n",
    "\n",
    "Variable names must start with a letter or an underscore (_).\n",
    "The remaining characters in the variable name can be letters, numbers, or underscores.\n",
    "Variable names are case-sensitive, so spam, Spam, and SPAM are all different variable names.\n",
    "Based on these rules, eggs is a valid variable name because it starts with a letter and contains only letters. However, 100 is an invalid variable name because it starts with a number, which is not allowed. Variable names cannot start with a number in Python.\n",
    "\n",
    "That being said, 100 is a valid integer value in Python, so you can still use it in expressions or assign it to variables with valid names, such as x = 100.\n",
    "\n",
    "\n",
    "\n"
   ]
  },
  {
   "cell_type": "markdown",
   "id": "323ef64e",
   "metadata": {},
   "source": [
    "9. What three functions can be used to get the integer, floating-point number, or string version of a value?"
   ]
  },
  {
   "cell_type": "markdown",
   "id": "7dbd3696",
   "metadata": {},
   "source": [
    "In Python, there are three built-in functions that can be used to convert a value to a different type:\n",
    "\n",
    "int() - This function can be used to convert a value to an integer. For example, int(3.14) would convert the floating-point number 3.14 to the integer 3.\n",
    "\n",
    "float() - This function can be used to convert a value to a floating-point number. For example, float(\"3.14\") would convert the string \"3.14\" to the floating-point number 3.14.\n",
    "\n",
    "str() - This function can be used to convert a value to a string. For example, str(42) would convert the integer 42 to the string \"42\".\n",
    "\n",
    "Note that these functions can only be used to convert values that are compatible with the target data type. For example, you cannot convert a string that contains letters to an integer using the int() function, or convert a string that does not represent a valid floating-point number to a float using the float() function.\n",
    "\n",
    "\n",
    "\n"
   ]
  },
  {
   "cell_type": "markdown",
   "id": "c0c4cf37",
   "metadata": {},
   "source": [
    "10. Why does this expression cause an error? How can you fix it?\n",
    "\" I have eaten \"+ 99 + \"burritos\""
   ]
  },
  {
   "cell_type": "markdown",
   "id": "ba03388c",
   "metadata": {},
   "source": [
    "The expression \"I have eaten \" + 99 + \" burritos\" causes an error because you are trying to concatenate a string (\"I have eaten \") with an integer (99) using the + operator. Python does not allow you to concatenate different data types in this way.\n",
    "\n",
    "To fix this error, you can convert the integer to a string using the str() function before concatenating it with the other strings. Here's an example of how you could modify the expression to make it work:"
   ]
  },
  {
   "cell_type": "code",
   "execution_count": 5,
   "id": "49c4e3a3",
   "metadata": {},
   "outputs": [
    {
     "data": {
      "text/plain": [
       "'I have eaten 99 burritos'"
      ]
     },
     "execution_count": 5,
     "metadata": {},
     "output_type": "execute_result"
    }
   ],
   "source": [
    "\"I have eaten \" + str(99) + \" burritos\"\n"
   ]
  },
  {
   "cell_type": "markdown",
   "id": "cd9a36a1",
   "metadata": {},
   "source": [
    "This expression first converts the integer 99 to a string using the str() function, and then concatenates it with the other strings using the + operator. The resulting string would be \"I have eaten 99 burritos\"."
   ]
  }
 ],
 "metadata": {
  "kernelspec": {
   "display_name": "Python 3 (ipykernel)",
   "language": "python",
   "name": "python3"
  },
  "language_info": {
   "codemirror_mode": {
    "name": "ipython",
    "version": 3
   },
   "file_extension": ".py",
   "mimetype": "text/x-python",
   "name": "python",
   "nbconvert_exporter": "python",
   "pygments_lexer": "ipython3",
   "version": "3.9.13"
  }
 },
 "nbformat": 4,
 "nbformat_minor": 5
}
